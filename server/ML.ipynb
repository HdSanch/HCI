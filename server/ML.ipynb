{
 "cells": [
  {
   "cell_type": "code",
   "execution_count": 6,
   "metadata": {},
   "outputs": [],
   "source": [
    "import pandas as pd\n",
    "import numpy as np\n",
    "import matplotlib.pyplot as plt\n",
    "\n",
    "from sklearn.linear_model import LinearRegression\n",
    "from sklearn.model_selection import train_test_split\n",
    "from sklearn.metrics import mean_squared_error\n",
    "from sklearn.preprocessing import MinMaxScaler\n",
    "\n",
    "import joblib\n",
    "\n",
    "import warnings\n",
    "warnings.filterwarnings(\"ignore\")"
   ]
  },
  {
   "cell_type": "markdown",
   "metadata": {},
   "source": [
    "### Generación dataset randómico"
   ]
  },
  {
   "cell_type": "code",
   "execution_count": 7,
   "metadata": {},
   "outputs": [
    {
     "name": "stdout",
     "output_type": "stream",
     "text": [
      "Dataset generado y guardado como dataset_juego_cruce_calle.csv\n"
     ]
    }
   ],
   "source": [
    "# Configuración inicial\n",
    "np.random.seed(2)\n",
    "num_samples = 10000\n",
    "tiempo_maximo = 50  # Máximo tiempo permitido para cruzar (en segundos)\n",
    "std_edad = 1\n",
    "std_tiempo_cruce = 5\n",
    "std_velocidad = 6\n",
    "\n",
    "# Generación de datos\n",
    "data = {\n",
    "    \"edad_jugador\": np.random.randint(2+std_edad, 11-std_edad, size=num_samples),  # Edad entre 3 y 90 años\n",
    "    \"tiempo_cruce\": np.random.uniform(6, tiempo_maximo-std_tiempo_cruce, size=num_samples),  # Tiempo de cruce entre 2 y 50 segundos\n",
    "    \"velocidad_vehiculos\": np.random.uniform(20+std_velocidad, 80-std_velocidad, size=num_samples),  # Velocidad entre 20 y 80 km/h\n",
    "    \"num_carriles\": np.random.choice([2, 4, 6], size=num_samples),  # Número de carriles\n",
    "    \"num_intentos\": np.random.randint(1, 4, size=num_samples),  # Intentos entre 1 y 3\n",
    "}\n",
    "\n",
    "# Crear un DataFrame\n",
    "df = pd.DataFrame(data)\n",
    "\n",
    "# Inicializar el MinMaxScaler\n",
    "scaler = MinMaxScaler()\n",
    "\n",
    "# Escalar las características numéricas (features)\n",
    "columns_to_scale = [\"edad_jugador\", \"tiempo_cruce\", \"velocidad_vehiculos\", \"num_carriles\", \"num_intentos\"]\n",
    "df[columns_to_scale] = scaler.fit_transform(df[columns_to_scale])\n",
    "\n",
    "# Ahora calculamos la dificultad usando las características normalizadas y ajustando por edad\n",
    "def calcular_dificultad(row):\n",
    "    dificultad = (\n",
    "        2 * row[\"edad_jugador\"]  # Ajuste de edad basado en la distribución normal\n",
    "        + 2 * row[\"tiempo_cruce\"]  # El tiempo de cruce tiene un impacto significativo\n",
    "        + 3 * row[\"velocidad_vehiculos\"]  # La velocidad de los vehículos tiene un gran impacto\n",
    "        + 2 * row[\"num_carriles\"]  # El número de carriles tiene un impacto moderado\n",
    "        + 2 * (1 - row[\"num_intentos\"])  # Más intentos implica mayor dificultad\n",
    "    )\n",
    "    \n",
    "    # Asegurarse de que la dificultad esté en el rango [1, 10]\n",
    "    return np.clip(dificultad, 1, 10)\n",
    "\n",
    "# Aplicar la función a cada fila para calcular la dificultad\n",
    "df[\"dificultad\"] = df.apply(calcular_dificultad, axis=1)\n",
    "\n",
    "# Guardar el dataset ajustado\n",
    "file_path = \"dataset_juego_cruce_calle.csv\"\n",
    "df.to_csv(file_path, index=False)\n",
    "\n",
    "print(f\"Dataset generado y guardado como {file_path}\")"
   ]
  },
  {
   "cell_type": "markdown",
   "metadata": {},
   "source": [
    "### Guardado del escalador como .pkl"
   ]
  },
  {
   "cell_type": "code",
   "execution_count": 8,
   "metadata": {},
   "outputs": [
    {
     "name": "stdout",
     "output_type": "stream",
     "text": [
      "Escalador guardado como 'mmscaler_juego_cruce_calle.pkl'\n"
     ]
    }
   ],
   "source": [
    "# Guardar el escalador para su uso posterior\n",
    "nombre_escalador = 'mmscaler_juego_cruce_calle.pkl'\n",
    "joblib.dump(scaler, f'{nombre_escalador}')\n",
    "print(f\"Escalador guardado como '{nombre_escalador}'\")"
   ]
  },
  {
   "cell_type": "markdown",
   "metadata": {},
   "source": [
    "### Pequeño análisis exploratorio"
   ]
  },
  {
   "cell_type": "code",
   "execution_count": 9,
   "metadata": {},
   "outputs": [],
   "source": [
    "df = pd.read_csv(r'dataset_juego_cruce_calle.csv')"
   ]
  },
  {
   "cell_type": "code",
   "execution_count": 10,
   "metadata": {},
   "outputs": [
    {
     "name": "stdout",
     "output_type": "stream",
     "text": [
      "1.0\n",
      "10.0\n"
     ]
    }
   ],
   "source": [
    "print(df['dificultad'].min())\n",
    "print(df['dificultad'].max())"
   ]
  },
  {
   "cell_type": "code",
   "execution_count": 11,
   "metadata": {},
   "outputs": [
    {
     "data": {
      "image/png": "[encoded data removed]",
      "text/plain": [
       "<Figure size 1000x600 with 1 Axes>"
      ]
     },
     "metadata": {},
     "output_type": "display_data"
    }
   ],
   "source": [
    "# Visualización de la distribución de la dificultad\n",
    "plt.figure(figsize=(10, 6))\n",
    "plt.hist(df[\"dificultad\"], bins=20, edgecolor=\"black\", alpha=0.7)\n",
    "plt.title(\"Distribución de Dificultad\")\n",
    "plt.xlabel(\"Dificultad\")\n",
    "plt.ylabel(\"Frecuencia\")\n",
    "plt.grid(True)\n",
    "plt.show()"
   ]
  },
  {
   "cell_type": "markdown",
   "metadata": {},
   "source": [
    "### Entrenamiento del modelo"
   ]
  },
  {
   "cell_type": "code",
   "execution_count": 12,
   "metadata": {},
   "outputs": [
    {
     "name": "stdout",
     "output_type": "stream",
     "text": [
      "MSE del Linear Model: 0.0006255874533595779\n",
      "RMSE del Liner Model: 0.025011746307676677\n"
     ]
    }
   ],
   "source": [
    "# Dividir datos en entrenamiento y prueba\n",
    "X = df[[\"edad_jugador\", \"tiempo_cruce\", \"velocidad_vehiculos\", \"num_carriles\", \"num_intentos\"]]\n",
    "y = df[\"dificultad\"]\n",
    "X_train, X_test, y_train, y_test = train_test_split(X, y, test_size=0.2, random_state=42)\n",
    "\n",
    "# Entrenar el modelo\n",
    "lr_model = LinearRegression()\n",
    "lr_model.fit(X_train, y_train)\n",
    "\n",
    "# Predicción\n",
    "y_pred = lr_model.predict(X_test)\n",
    "\n",
    "# Evaluar el modelo\n",
    "mse = mean_squared_error(y_test, y_pred)\n",
    "print(f\"MSE del Linear Model: {mse}\")\n",
    "print(f\"RMSE del Liner Model: {np.sqrt(mse)}\")\n"
   ]
  },
  {
   "cell_type": "markdown",
   "metadata": {},
   "source": [
    "### Guardado del modelo como .pkl"
   ]
  },
  {
   "cell_type": "code",
   "execution_count": 13,
   "metadata": {},
   "outputs": [
    {
     "name": "stdout",
     "output_type": "stream",
     "text": [
      "Modelo guardado como 'modelo_juego_cruce_calle.pkl'\n"
     ]
    }
   ],
   "source": [
    "# Guardar el modelo\n",
    "nombre_modelo = 'modelo_juego_cruce_calle.pkl'\n",
    "joblib.dump(lr_model, nombre_modelo)\n",
    "print(f\"Modelo guardado como '{nombre_modelo}'\")"
   ]
  },
  {
   "cell_type": "markdown",
   "metadata": {},
   "source": [
    "### Ejemplo de predicciones\n",
    "\n",
    "Las columnas están repartidas de la siguiente manera:\n",
    "- Columna01 --> Edad\n",
    "- Columna02 --> Tiempo de cruce en segundos\n",
    "- Columna03 --> Velocidad de los vehículos en km/h\n",
    "- Columna04 --> Número de carriles\n",
    "- Columna05 --> Número de intentos"
   ]
  },
  {
   "cell_type": "code",
   "execution_count": 14,
   "metadata": {},
   "outputs": [
    {
     "name": "stdout",
     "output_type": "stream",
     "text": [
      "Modelo cargado correctamente.\n",
      "Escalador cargado correctamente.\n",
      "\n",
      "Dificultad predicha para el jugador 1: 1.9453926496522682\n",
      "Dificultad predicha para el jugador 2: 3.1113777228688866\n",
      "Dificultad predicha para el jugador 3: 5.556949780965971\n",
      "Dificultad predicha para el jugador 4: 6.691688688810791\n",
      "Dificultad predicha para el jugador 5: 7.054693453465341\n",
      "Dificultad predicha para el jugador 6: 8.108411981941146\n",
      "Dificultad predicha para el jugador 7: 9.852837165024173\n"
     ]
    }
   ],
   "source": [
    "# Cargar el modelo RandomForestRegressor\n",
    "rf_model_loaded = joblib.load(f\"{nombre_modelo}\")\n",
    "print(\"Modelo cargado correctamente.\")\n",
    "\n",
    "# Cargar el escalador\n",
    "scaler_loaded = joblib.load(f\"{nombre_escalador}\")  # Cambia el nombre si es necesario\n",
    "print(\"Escalador cargado correctamente.\")\n",
    "\n",
    "# Nuevos datos de ejemplo (sin escalar)\n",
    "nuevos_datos = [\n",
    "    [3, 6.0, 25, 2, 1],\n",
    "    [3, 10.5, 40, 2, 1],  # Ejemplo: edad=10, tiempo_cruce=16.5, velocidad_vehiculos=60, num_carriles=4, num_intentos=1\n",
    "    [5, 13.6, 50, 4, 1],\n",
    "    [7, 24.0, 65, 4, 2],\n",
    "    [9, 12.0, 70, 6, 3],\n",
    "    [10, 20, 75, 6, 3],\n",
    "    [10, 48, 80, 6, 3]\n",
    "]\n",
    "\n",
    "# Escalar los nuevos datos usando el escalador cargado\n",
    "nuevos_datos_escalados = scaler_loaded.transform(nuevos_datos)\n",
    "\n",
    "# Realizar la predicción con el modelo cargado\n",
    "dificultades_predichas = rf_model_loaded.predict(nuevos_datos_escalados)\n",
    "\n",
    "# Mostrar resultados\n",
    "print()\n",
    "for i, pred in enumerate(dificultades_predichas):\n",
    "    print(f\"Dificultad predicha para el jugador {i + 1}: {pred}\")\n"
   ]
  },
  {
   "cell_type": "code",
   "execution_count": 15,
   "metadata": {},
   "outputs": [],
   "source": [
    "from sklearn.linear_model import LinearRegression"
   ]
  },
  {
   "cell_type": "code",
   "execution_count": 16,
   "metadata": {},
   "outputs": [
    {
     "name": "stdout",
     "output_type": "stream",
     "text": [
      "Mean Squared Error: 0.0006255874533595779\n",
      "Modelo guardado como 'modelo_dificultad.pkl'\n"
     ]
    }
   ],
   "source": [
    "# Entrenar el modelo\n",
    "model = LinearRegression()\n",
    "model.fit(X_train, y_train)\n",
    "\n",
    "# Evaluar el modelo\n",
    "y_pred = model.predict(X_test)\n",
    "mse = mean_squared_error(y_test, y_pred)\n",
    "print(f\"Mean Squared Error: {mse}\")\n",
    "\n",
    "# Guardar el modelo entrenado\n",
    "model_filename = 'modelo_dificultad.pkl'\n",
    "joblib.dump(model, model_filename)\n",
    "print(f\"Modelo guardado como '{model_filename}'\")\n"
   ]
  }
 ],
 "metadata": {
  "kernelspec": {
   "display_name": "Python 3",
   "language": "python",
   "name": "python3"
  },
  "language_info": {
   "codemirror_mode": {
    "name": "ipython",
    "version": 3
   },
   "file_extension": ".py",
   "mimetype": "text/x-python",
   "name": "python",
   "nbconvert_exporter": "python",
   "pygments_lexer": "ipython3",
   "version": "3.12.5"
  }
 },
 "nbformat": 4,
 "nbformat_minor": 2
}
